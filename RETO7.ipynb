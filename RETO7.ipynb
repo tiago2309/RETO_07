{
 "cells": [
  {
   "cell_type": "markdown",
   "id": "1c89baa5",
   "metadata": {},
   "source": [
    "# Reto 07\n",
    "Desarrollo de los ejercicios del reto 7\n",
    "\n",
    "### 1. Cuadrado de los números del 1 al 100\n",
    "Imprimir un listado con los números del 1 al 100 cada uno con su respectivo cuadrado."
   ]
  },
  {
   "cell_type": "code",
   "execution_count": null,
   "id": "52b106e3",
   "metadata": {},
   "outputs": [],
   "source": [
    "def cuadrado_numero():\n",
    "    \"\"\"\n",
    "    Imprime los números del 1 al 100 con sus respectivos cuadrados.\n",
    "    \"\"\"\n",
    "    n = 1 # Iniciar definiendo la variable en 1\n",
    "    while n <= 100: # Se utiliza un ciclo while para recorrer todos los números que sean menores o igual a 100\n",
    "        print(f\"{n}^2 = {n**2}\") # Calculamos el cuadrado del número\n",
    "        n += 1 # Incrementar el número 1 unidad para que asi llegue a 100\n",
    "\n",
    "if __name__ == \"__main__\":\n",
    "    cuadrado_numero() # Llamar al comando"
   ]
  },
  {
   "cell_type": "markdown",
   "id": "bad1c2c8",
   "metadata": {},
   "source": [
    "### 2. Números pares e impares del 1 al 1000\n",
    "Imprimir un listado con los números impares desde 1 hasta 999 y seguidamente otro listado con los números pares desde 2 hasta 1000."
   ]
  },
  {
   "cell_type": "code",
   "execution_count": null,
   "id": "10c4e29d",
   "metadata": {},
   "outputs": [],
   "source": [
    "def numeros_pares():\n",
    "    \"\"\"\n",
    "    Imprime los números pares del 1 al 1000\n",
    "    \"\"\"\n",
    "    n = 2 # Definir la variable en 2 (primer número par)\n",
    "    while n <= 1000: # Se utiliza el ciclo while para recorrer todos los números menores o iguales a 1000\n",
    "        print (n) # Imprimir el número\n",
    "        n += 2 # Incrementar el número 2 unidades para que vaya de par en par.\n",
    "\n",
    "def numeros_impares():\n",
    "    \"\"\"\n",
    "    Imprime los números impares del 1 al 1000\n",
    "    \"\"\"\n",
    "    n = 1 # Definir la variable en 1 (primer número impar)\n",
    "    while n <= 1000: # Se utiliza el ciclo while para recorrer todos los números menores o iguales a 1000\n",
    "        print (n) # Imprimir el número\n",
    "        n += 2 # Incrementar el número 2 unidades para que vaya de impar en impar\n",
    "\n",
    "if __name__ == \"__main__\":\n",
    "    print (\"Pares del 1 al 1000\") # Título para los pares\n",
    "    numeros_pares() # Llamar al comando de los números pares\n",
    "\n",
    "    print (\"Impares del 1 al 1000\") # Título para los impares\n",
    "    numeros_impares() # Llamar al comando de los números impares"
   ]
  },
  {
   "cell_type": "markdown",
   "id": "c6294263",
   "metadata": {},
   "source": [
    "### 3. Pares descendentes desde n dado\n",
    "Imprimir los números pares en forma descendente hasta 2 que son menores o iguales a un número natural n ≥ 2 dado"
   ]
  },
  {
   "cell_type": "code",
   "execution_count": null,
   "id": "8e635627",
   "metadata": {},
   "outputs": [],
   "source": [
    "def pares_descendentes(n):\n",
    "    \"\"\"\n",
    "    Imprime los números pares de forma descendente desde n hasta 2\n",
    "\n",
    "    Parámetros: \n",
    "    n: Número natural mayor o igual a 2\n",
    "    Si es impar, se reduce una unidad para comenzar por el par más cercano\n",
    "    \"\"\"\n",
    "\n",
    "    if n % 2 != 0: # Determinar si n es un número par o impar dependiendo de su residuo, si es 0 entonces es par, si es 1 enornces es impar\n",
    "        n -= 1 # Reducir el número una unidad cuando el residuo sea diferente a 0\n",
    "    while n >= 2: # Utilizar un ciclo while para recorrer todos los numeros que sean mayores a 2 y menores a n\n",
    "        print (n) # Imprimir el número\n",
    "        n -= 2 # Reducir 2 unidades en el número para ir de par en par de manera descendente\n",
    "\n",
    "if __name__ == \"__main__\":\n",
    "    n = int(input(\"Ingrese un numero mayor o igual a 2: \")) # Solicitar al usuario que ingrese un número \n",
    "    pares_descendentes(n) # Llamar al comando"
   ]
  },
  {
   "cell_type": "markdown",
   "id": "7ae167f2",
   "metadata": {},
   "source": [
    "### 4. Lista de factorial de 1 a n dado\n",
    "Imprimir los números de 1 hasta un número natural n dado, cada uno con su respectivo factorial"
   ]
  },
  {
   "cell_type": "code",
   "execution_count": null,
   "id": "963ebf52",
   "metadata": {},
   "outputs": [],
   "source": [
    "def factorial(n):\n",
    "    \"\"\"\n",
    "    Calcula el factorial de los números del 1 hasta el n dado\n",
    "    \"\"\"\n",
    "    fac = 1 # Definir factorial en 1 (primero número requerido)\n",
    "    for i in range (1, n + 1): # Establecer un rango \n",
    "        fac *= i # Multiplicar el factorial por cada uno de los números que estén dentro del rango\n",
    "    return fac # Retornar al último valor\n",
    "\n",
    "if __name__ == \"__main__\":\n",
    "    n = int(input(\"Ingrese un numero natural: \")) # Solicitar un número al usuario\n",
    "    # Se imprime el factorial de cada número de 1 hasta n\n",
    "    for i in range(1, n +1): \n",
    "        print (f\"{i}! = {factorial(i)}\")"
   ]
  },
  {
   "cell_type": "markdown",
   "id": "0b98ec53",
   "metadata": {},
   "source": [
    "### 5. Calcular 2^n de la n dada\n",
    "Calcular el valor de 2 elevado a la potencia n usando ciclos for."
   ]
  },
  {
   "cell_type": "code",
   "execution_count": null,
   "id": "f00bfde9",
   "metadata": {},
   "outputs": [],
   "source": [
    "def potencia_dos(n):\n",
    "    \"\"\"\n",
    "    Calcular 2 a la potencia de n dado usando un cíclo \n",
    "    \"\"\"\n",
    "    resultado = 1 # Se inicia con el resutlado en 1\n",
    "    for _ in range(n): # Definir el rango, se repite n veces\n",
    "        resultado *= 2 # Multiplicar el resultado por 2\n",
    "    return resultado # Retornar al último valor\n",
    "\n",
    "\n",
    "if __name__ == \"__main__\":\n",
    "    n = int(input(\"Ingrese un número natural: \")) # Solicitar un número al usuario\n",
    "    print(f\"2^{n} = {potencia_dos(n)}\") # Imprimir el resutlado de 2 elevado a la n"
   ]
  },
  {
   "cell_type": "markdown",
   "id": "8bcf2adb",
   "metadata": {},
   "source": [
    "### 6. Calcula x^n solicitando ambos valores al usuario.\n",
    "Leer un número natural n, leer otro dato de tipo real x y calcular x^n usando ciclos for. Disclaimer: Trate de no utilizar el operador de potencia (**)."
   ]
  },
  {
   "cell_type": "code",
   "execution_count": null,
   "id": "a4c33329",
   "metadata": {},
   "outputs": [],
   "source": [
    "\"\"\"\n",
    "Calcular x^n usando ciclo for\n",
    "\"\"\"\n",
    "n = int(input(\"Ingrese un numero natural: \")) # Solicitar al usuario un número natural (exponente)\n",
    "x = float(input(\"Ingrese un numero real: \")) # Solicitar al usuario un número real (base)\n",
    "\n",
    "if n > 0: # Si el exponente es mayor a 0, se calcula la potencia\n",
    "    resultado = 1 # Se inicia el resultado en 1\n",
    "    for _ in range(n): # Establecer un rango\n",
    "        resultado *= x # X se multiplica por sí mismo n veces \n",
    "    \n",
    "    print(f\"{x} elevado a la {n} es: {resultado}\") # Mostrar el resultado"
   ]
  },
  {
   "cell_type": "markdown",
   "id": "3184d934",
   "metadata": {},
   "source": [
    "### 7. Tablas de multiplicar\n",
    "Diseñe un programa que muestre las tablas de multiplicar del 1 al 9."
   ]
  },
  {
   "cell_type": "code",
   "execution_count": null,
   "id": "462e1a74",
   "metadata": {},
   "outputs": [],
   "source": [
    "\"\"\"\n",
    "Imprime las tablas de multiplicar del 1 al 9\n",
    "\"\"\"\n",
    "\n",
    "# Recorre los números del 1 al 9 para generar cada tabla\n",
    "for i in range (1, 10):\n",
    "    print (f\"\\ntabla del {i}\") # Encabezado de la tabla\n",
    "\n",
    "    # Recorre los números del 1 al 10 para multiplicar por el número actual i\n",
    "    for j in range(1, 11):\n",
    "        print(f\"{i} * {j} = {i * j}\") # Imprime el producto"
   ]
  },
  {
   "cell_type": "markdown",
   "id": "b798de9b",
   "metadata": {},
   "source": [
    "### 8. Función de Taylor\n",
    "Diseñar una función que permita calcular una aproximación de la función exponencial alrededor de 0 para cualquier valor x (real), utilizando los primeros n términos de la serie de Taylor. Nota: use math para traer la función exponencial y mostrar la diferencia entre el valor real y la aproximación. \n"
   ]
  },
  {
   "cell_type": "code",
   "execution_count": null,
   "id": "d8100e37",
   "metadata": {},
   "outputs": [],
   "source": [
    "import math\n",
    "\"\"\"\n",
    "Calcula una aproximación de e^x usando la serie de Taylor centrada en 0.\n",
    "\"\"\"\n",
    "\n",
    "def exp_approx(x, n):\n",
    "    aproximacion = 0 # Se inicia la suma en 0\n",
    "\n",
    "    # Se suman los términos de la serie desde i = 0 hasta i = n\n",
    "    for i in range(n + 1):\n",
    "        aproximacion += x**i / math.factorial(i) # Se añade el término x^i / i!\n",
    "\n",
    "    valor_real = math.exp(x) # Se calcula el valor real con math.exp\n",
    "    diferencia = abs(valor_real - aproximacion) # Se calcula la diferencia entre real y aproximado\n",
    "\n",
    "    return aproximacion, valor_real, diferencia # Retorna los tres valores\n",
    "\n",
    "def main():\n",
    "    # Solicita al usuario que ingrese los valores de x y n\n",
    "    x = float(input(\"Ingrese el valor de x: \"))  # Valor real para evaluar e^x\n",
    "    n = int(input(\"Ingrese el número de términos n (entero positivo): \")) # Número de términos de la serie\n",
    "    \n",
    "    # Llama a la función para obtener la aproximación, el valor real y la diferencia\n",
    "    aprox, real, diff = exp_approx(x, n)\n",
    "    \n",
    "    # Imprime los resultados\n",
    "    print(f\"\\nAproximación de e^{x} con {n} términos: {aprox}\")\n",
    "    print(f\"Valor real con math.exp({x}): {real}\")\n",
    "    print(f\"Diferencia: {diff}\")\n",
    "\n",
    "# Ejecutar el programa\n",
    "main()\n"
   ]
  }
 ],
 "metadata": {
  "kernelspec": {
   "display_name": "Python 3",
   "language": "python",
   "name": "python3"
  },
  "language_info": {
   "codemirror_mode": {
    "name": "ipython",
    "version": 3
   },
   "file_extension": ".py",
   "mimetype": "text/x-python",
   "name": "python",
   "nbconvert_exporter": "python",
   "pygments_lexer": "ipython3",
   "version": "3.10.11"
  }
 },
 "nbformat": 4,
 "nbformat_minor": 5
}
